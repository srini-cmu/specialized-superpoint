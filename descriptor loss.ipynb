{
 "cells": [
  {
   "cell_type": "code",
   "execution_count": 1,
   "metadata": {},
   "outputs": [],
   "source": [
    "import torch\n",
    "import numpy as np\n",
    "import torch.nn.functional as F"
   ]
  },
  {
   "cell_type": "code",
   "execution_count": 4,
   "metadata": {},
   "outputs": [],
   "source": [
    "# N * D * H/8 * W/8\n",
    "H, W = 32, 32\n",
    "Hc, Wc = H//8, W//8\n",
    "desc_raw = torch.Tensor(np.random.random((32,256,Hc, Wc)))\n",
    "warped_desc_raw = desc_raw\n",
    "\n",
    "mp = 1\n",
    "mn = 0.2\n",
    "ld = 250"
   ]
  },
  {
   "cell_type": "code",
   "execution_count": 5,
   "metadata": {},
   "outputs": [],
   "source": [
    "def descriptor_head(desc_raw):\n",
    "    desc = F.interpolate(desc_raw, scale_factor=8, mode='bilinear', align_corners=False)\n",
    "    desc = F.normalize(desc, p=2, dim=1)\n",
    "    return desc_raw, desc\n",
    "\n",
    "# should use the raw descriptor output from the network\n",
    "def descriptor_loss(desc, warped_desc):\n",
    "    Hc, Wc = desc_raw.shape[-2:]\n",
    "    p_hw = torch.stack(torch.meshgrid((torch.arange(Hc), torch.arange(Wc))), dim=-1)\n",
    "    p_hw = p_hw * 8 + 8 // 2\n",
    "    warped_p_hw = p_hw # should be the warped location for p_hw\n",
    "    \n",
    "    p_hw = p_hw.view(1,Hc,Wc,1,1,2).float()\n",
    "    warped_p_hw = warped_p_hw.view(1,1,1,Hc,Wc,2).float()\n",
    "    s = torch.le(torch.norm(p_hw-warped_p_hw,p=2,dim=-1), 8).float()\n",
    "\n",
    "    desc = desc.view((32,Hc,Wc,1,1,-1))\n",
    "    warped_desc = warped_desc.view((32,1,1,Hc,Wc,-1))\n",
    "    dot_prod = torch.sum(desc*warped_desc, dim=-1)\n",
    "    \n",
    "    loss = ld * s * torch.clamp(mp - dot_prod, min=0.) + (1-s) * torch.clamp(dot_prod - mn, min=0.)\n",
    "    loss = torch.sum(loss) / (Hc*Wc)**2 # normalization needs to be revisited, after applying homography\n",
    "    return loss"
   ]
  },
  {
   "cell_type": "code",
   "execution_count": 6,
   "metadata": {},
   "outputs": [
    {
     "data": {
      "text/plain": [
       "tensor(1541.3599)"
      ]
     },
     "execution_count": 6,
     "metadata": {},
     "output_type": "execute_result"
    }
   ],
   "source": [
    "descriptor_loss(desc_raw, warped_desc_raw)"
   ]
  }
 ],
 "metadata": {
  "kernelspec": {
   "display_name": "Python 3",
   "language": "python",
   "name": "python3"
  },
  "language_info": {
   "codemirror_mode": {
    "name": "ipython",
    "version": 3
   },
   "file_extension": ".py",
   "mimetype": "text/x-python",
   "name": "python",
   "nbconvert_exporter": "python",
   "pygments_lexer": "ipython3",
   "version": "3.6.5"
  }
 },
 "nbformat": 4,
 "nbformat_minor": 2
}
